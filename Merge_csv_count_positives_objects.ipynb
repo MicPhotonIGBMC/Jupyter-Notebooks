{
 "cells": [
  {
   "cell_type": "code",
   "execution_count": 5,
   "metadata": {},
   "outputs": [
    {
     "name": "stderr",
     "output_type": "stream",
     "text": [
      "C:\\Users\\vernayb\\Anaconda3\\lib\\site-packages\\ipykernel_launcher.py:28: SettingWithCopyWarning: \n",
      "A value is trying to be set on a copy of a slice from a DataFrame.\n",
      "Try using .loc[row_indexer,col_indexer] = value instead\n",
      "\n",
      "See the caveats in the documentation: https://pandas.pydata.org/pandas-docs/stable/user_guide/indexing.html#returning-a-view-versus-a-copy\n",
      "C:\\Users\\vernayb\\Anaconda3\\lib\\site-packages\\ipykernel_launcher.py:29: SettingWithCopyWarning: \n",
      "A value is trying to be set on a copy of a slice from a DataFrame.\n",
      "Try using .loc[row_indexer,col_indexer] = value instead\n",
      "\n",
      "See the caveats in the documentation: https://pandas.pydata.org/pandas-docs/stable/user_guide/indexing.html#returning-a-view-versus-a-copy\n"
     ]
    }
   ],
   "source": [
    "# Import modules\n",
    "import pandas as pd\n",
    "from pathlib import Path\n",
    "import glob\n",
    "import numpy as np\n",
    "import os\n",
    "\n",
    "# Input folder, change the path accordingly\n",
    "path = r'C:\\Users\\vernayb\\Documents\\StarDist_Label_to_binary\\results_table'\n",
    "all_files = glob.glob(path + \"\\*.csv\")  \n",
    "list_of_dfs = [pd.read_csv(file) for file in all_files]\n",
    "\n",
    "# Add a column and populated with the file name of the csv for each csv file\n",
    "for dataframe, filename in zip(list_of_dfs, all_files):\n",
    "    #dataframe['filename'] = filename /// full name with path\n",
    "    #dataframe['filename'] = os.path.splitext(filename)[0] /// no file extension\n",
    "    dataframe['filename'] = os.path.basename(filename)\n",
    "    \n",
    "# Combine the list of dataframes\n",
    "combined_df = pd.concat(list_of_dfs, ignore_index=True)\n",
    "\n",
    "# Each row is an object i.e. a nucleus\n",
    "# Extract only the prediction and the file name\n",
    "df = combined_df[[\"Predicted Class\",\"filename\"]]\n",
    "\n",
    "# Create a new column for Positive and Negative\n",
    "# Populate the column conditionnally \n",
    "df['Positive'] = np.where(df['Predicted Class']=='Ki67', 1,0)\n",
    "df['Negative'] = np.where(df['Predicted Class']=='Negative', 1,0)\n",
    "\n",
    "# Extract total number of positives and negative per file/class\n",
    "dfVariables = ['Positive', 'Negative']\n",
    "df = df.groupby([\"filename\"])[dfVariables].sum()\n",
    "\n",
    "# Save as a .csv\n",
    "df.to_csv(r'C:\\Users\\vernayb\\Documents\\StarDist_Label_to_binary\\pos_neg_results_02.csv')\n",
    "\n",
    "# Save as a .xlsx\n",
    "df.to_excel(r'C:\\Users\\vernayb\\Documents\\StarDist_Label_to_binary\\pos_neg_results_02.xlsx', index = True)"
   ]
  }
 ],
 "metadata": {
  "kernelspec": {
   "display_name": "Python 3",
   "language": "python",
   "name": "python3"
  },
  "language_info": {
   "codemirror_mode": {
    "name": "ipython",
    "version": 3
   },
   "file_extension": ".py",
   "mimetype": "text/x-python",
   "name": "python",
   "nbconvert_exporter": "python",
   "pygments_lexer": "ipython3",
   "version": "3.7.6"
  }
 },
 "nbformat": 4,
 "nbformat_minor": 4
}
